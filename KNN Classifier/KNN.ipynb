{
 "cells": [
  {
   "cell_type": "markdown",
   "metadata": {},
   "source": [
    "# Assignment No 3a\n",
    "### *Written By: Sibt ul Hussain*\n",
    "----\n",
    "## Goal\n",
    "\n",
    "Your goal in this assigment is to implement a KNN Classifier.\n",
    "\n",
    "**Note** Please note that you are allowed to use only those libraries which we have discussed in the class, i.e. numpy, scipy, pandas.\n",
    "\n",
    "\n",
    "## Submission Instructions\n",
    "You are required to submit the original notebook file on the Slate (with .ipynb extension), with complete set of outputs. Students failing to do so will get zero marks. \n",
    "\n",
    "**Please read each step carefully and understand it fully before proceeding with code writing**\n",
    "\n",
    "## Plagiarism\n",
    "Any form of plagiarism will not be tolerated and result in 0 marks.\n"
   ]
  },
  {
   "cell_type": "markdown",
   "metadata": {},
   "source": [
    "Lets suppose there are $m$ examples of size $d$, which are stored in a training matrix $D$ of size $m \\times d$. Now if we use Euclidean distance for the finding the best match for a given test example  $q_{d\\times1}$ how many multiplications and additions we will need to perform ?"
   ]
  },
  {
   "cell_type": "code",
   "execution_count": null,
   "metadata": {
    "collapsed": true
   },
   "outputs": [],
   "source": []
  },
  {
   "cell_type": "markdown",
   "metadata": {
    "slideshow": {
     "slide_type": "slide"
    }
   },
   "source": [
    "Here you will be implementing three versions of KNN classifiers, those are:\n",
    " 1. Using two nested loops, i.e. for a given example you will have to compute its L2 distance with all the training samples, thus you will need to implement it using two nested loops...**Please first complete the assignment using this method and then go for further optimizations mentioned in step 2 and 3**\n",
    " 2. Using one loop, i.e. you can get rid of one loop using the numpy vectorization (tiling the test example).\n",
    " 3. The number of multiplications and additions can be reduced a lot if we use an alternate definition of Euclidean distance, i.e. $$||x-y||^2=||x||^2+||y||^2-2x^Ty$$\n",
    "instead of using the traditional definition $$||x-y||^2=\\sum_i (x_i-y_i)^2$$ This definition will help you to implement a very fast version of KNN classifier without using any loop whatsoever. \n",
    "\n",
    "#### HelpFul Functions\n",
    "You might find following functions to be extremely helpful\n",
    " - **[argpartition] (http://docs.scipy.org/doc/numpy/reference/generated/numpy.argpartition.html)** uses introselect algorithm to perform an indirect partition along the given axis. This can lead to O(n) complexity instead of O(nlogn). Remember indexing start from 0.\n",
    " - **[itemfreq]()** a function that returns a 2-D array of item frequencies."
   ]
  },
  {
   "cell_type": "markdown",
   "metadata": {},
   "source": [
    "### K Nearest Neighbour Classifier\n",
    "\n",
    "Now in this assignment we will be implementing the K Nearest Neighbour Classifier for Continuous attributes.\n"
   ]
  },
  {
   "cell_type": "code",
   "execution_count": 1,
   "metadata": {
    "slideshow": {
     "slide_type": "slide"
    }
   },
   "outputs": [
    {
     "name": "stdout",
     "output_type": "stream",
     "text": [
      "Populating the interactive namespace from numpy and matplotlib\n"
     ]
    }
   ],
   "source": [
    "%pylab inline\n",
    "import scipy.stats\n",
    "from collections import defaultdict\n",
    "plt.style.use('ggplot')\n",
    "matplotlib.rcParams['figure.figsize'] = (10.0, 8.0)\n",
    "%load_ext autoreload \n",
    "%autoreload 2\n",
    "import numpy as np"
   ]
  },
  {
   "cell_type": "code",
   "execution_count": 2,
   "metadata": {
    "collapsed": true,
    "deletable": false,
    "nbgrader": {
     "checksum": "1ff8812ec1ff65cd4ef9c7b119cb35b2",
     "grade": false,
     "grade_id": "class",
     "locked": false,
     "schema_version": 1,
     "solution": true
    },
    "slideshow": {
     "slide_type": "slide"
    }
   },
   "outputs": [],
   "source": [
    "# TODO: You have to implement the following class\n",
    "## Your code goes here...\n",
    "\n",
    "class KNearestNeighbor:\n",
    "    ''' Implements the KNearest Neigbours For Classification... '''\n",
    "    def __init__(self, k, scalefeatures=False):        \n",
    "        self.k=k\n",
    "        self.scalefeatures=scalefeatures\n",
    "        self.X_train = np.array([])\n",
    "        self.Y_train = np.array([])\n",
    "        #pass    \n",
    "    \n",
    "    def compute_distances_two_loops(self, X):\n",
    "        \"\"\"\n",
    "        Compute the distance between each test point in X and each training point\n",
    "        in self.X_train using a nested loop over both the training data and the \n",
    "        test data.\n",
    "\n",
    "        Input:\n",
    "        X - An num_test x dimension array where each row is a test point.\n",
    "\n",
    "        Output:\n",
    "        dists - A num_test x num_train array where dists[i, j] is the distance\n",
    "                between the ith test point and the jth training point.\n",
    "        \"\"\"\n",
    "        num_test = X.shape[0]\n",
    "        num_train = self.X_train.shape[0]\n",
    "        dists = np.zeros((num_test, num_train))\n",
    "        for i in xrange(num_test):\n",
    "            for j in xrange(num_train):\n",
    "                #####################################################################\n",
    "                # TODO:                                                             #\n",
    "                # Compute the l2 distance between the ith test point and the jth    #\n",
    "                # training point, and store the result in dists[i, j]               #\n",
    "                #####################################################################\n",
    "                # YOUR CODE HERE\n",
    "                dists[i][j] = np.sqrt(np.sum((X[i] - self.X_train[j])**2))\n",
    "               \n",
    "                #####################################################################\n",
    "                #                       END OF YOUR CODE                            #\n",
    "                #####################################################################\n",
    "        print dists.shape\n",
    "        return dists\n",
    "\n",
    "    def compute_distances_one_loop(self, X):\n",
    "        \"\"\"\n",
    "        Compute the distance between each test point in X and each training point\n",
    "        in self.X_train using a single loop over the test data.\n",
    "\n",
    "        Input / Output: Same as compute_distances_two_loops\n",
    "        \"\"\"\n",
    "        num_test = X.shape[0]\n",
    "        num_train = self.X_train.shape[0]\n",
    "        dists = np.zeros((num_test, num_train))\n",
    "        for i in xrange(num_test):\n",
    "            #######################################################################\n",
    "            # TODO:                                                               #\n",
    "            # Compute the l2 distance between the ith test point and all training #\n",
    "            # points, and store the result in dists[i, :].                        #\n",
    "            #######################################################################\n",
    "            # YOUR CODE HERE\n",
    "            dists[i,:] = np.sqrt(np.sum((X[i,:] - self.X_train)**2,axis = 1))\n",
    "            #######################################################################\n",
    "            #                         END OF YOUR CODE                            #\n",
    "            #######################################################################\n",
    "        return dists\n",
    "\n",
    "    def compute_distances_no_loops(self, X):\n",
    "        \"\"\"\n",
    "        Compute the distance between each test point in X and each training point\n",
    "        in self.X_train using no explicit loops.\n",
    "\n",
    "        Input / Output: Same as compute_distances_two_loops\n",
    "        \"\"\"\n",
    "        num_test = X.shape[0]\n",
    "        num_train = self.X_train.shape[0]\n",
    "        dists = np.zeros((num_test, num_train)) \n",
    "        #########################################################################\n",
    "        # TODO:                                                                 #\n",
    "        # Compute the l2 distance between all test points and all training      #\n",
    "        # points without using any explicit loops, and store the result in      #\n",
    "        # dists.                                                                #\n",
    "        # HINT: Try to formulate the l2 distance using matrix multiplication    #\n",
    "        #       and two broadcast sums.   \n",
    "        # Look at the np.tile function as well                                  #\n",
    "        #########################################################################\n",
    "        # YOUR CODE HERE\n",
    "        dists = np.sqrt(np.abs((np.sum(self.X_train**2,axis=1)+np.sum(X**2,axis=1)[:,newaxis]) + -2*np.dot(X,self.X_train.T)))\n",
    "#         dists = np.sqrt((np.sum(self.X_train**2,axis=1)+np.sum(X**2,axis=1)[:,newaxis]) + -2*np.dot(X,self.X_train.T))\n",
    "        #########################################################################\n",
    "        #                         END OF YOUR CODE                              #\n",
    "        #########################################################################\n",
    "        return dists\n",
    "    \n",
    "    def scale_features(self,X):\n",
    "        \"\"\"\n",
    "            Normalize each feature to lie in the range [0 ,1]\n",
    "\n",
    "            Input:\n",
    "            ------\n",
    "\n",
    "                X= M x d dimensional data matrix\n",
    "\n",
    "            Returns:\n",
    "            --------\n",
    "\n",
    "                normalized X\n",
    "        \"\"\"\n",
    "        # we will store these values compute on training set to use during testing \n",
    "        self.xmin= np.min(X,axis=0)\n",
    "        self.xmax= np.max(X,axis=0)\n",
    "\n",
    "        return (X-self.xmin)/(self.xmax-self.xmin)\n",
    "    \n",
    "    def train(self, X, Y):\n",
    "        ''' Train K Nearest Neighbour classifier using the given \n",
    "            X [m x d] data matrix and Y labels matrix\n",
    "            \n",
    "            Input:\n",
    "            ------\n",
    "            X: [m x d] a data matrix of m d-dimensional examples.\n",
    "            Y: [m x 1] a label vector.\n",
    "            \n",
    "            Returns:\n",
    "            -----------\n",
    "            Nothing\n",
    "            '''\n",
    "        \n",
    "        \n",
    "        nexamples,nfeatures=X.shape\n",
    "        \n",
    "        if self.scalefeatures:\n",
    "            X=self.scale_features(X)\n",
    "        \n",
    "        # YOUR CODE HERE\n",
    "        self.X_train = X\n",
    "        self.Y_train = Y\n",
    "        #Your code goes here...\n",
    "        #define self.X_train to store the training data...\n",
    "                \n",
    "    \n",
    "    def predict(self, X, methodtype='noloops'):\n",
    "        \n",
    "        \"\"\"\n",
    "        Test the trained K-Nearset Neighoubr classifier result on the given examples X\n",
    "        \n",
    "                   \n",
    "            Input:\n",
    "            ------\n",
    "            X: [m x d] a matrix of m  d-dimensional test examples.\n",
    "            methodtype: which method to use for calculating distances.\n",
    "               noloops: without using any loop\n",
    "               oneloop: using one loop\n",
    "               twoloops: using two nested loops...\n",
    "               \n",
    "            Returns:\n",
    "            -----------\n",
    "                pclass: the predicted class for the given set of examples, i.e. to which it belongs\n",
    "        \"\"\"\n",
    "        \n",
    "        num_test = X.shape[0]\n",
    "        \n",
    "        if self.scalefeatures:\n",
    "            X=(X-self.xmin)/(self.xmax-self.xmin)\n",
    "        \n",
    "        y_pred = np.zeros(num_test, dtype = self.Y_train.dtype)\n",
    "        \n",
    "        # defining a function variable so that you will only need to call compute_distance...\n",
    "        if methodtype == 'noloops':\n",
    "            compute_distance = self.compute_distances_no_loops\n",
    "        elif methodtype == 'oneloop':\n",
    "            compute_distance = self.compute_distances_one_loop\n",
    "        else:\n",
    "            compute_distance = self.compute_distances_two_loops\n",
    "        #your code goes here...\n",
    "        \n",
    "        dists=compute_distance(X)\n",
    "        pclasses = []\n",
    "        sortedArray = dists.argsort(axis = 1)[:,:self.k]\n",
    "        for i in range(0,len(X)):\n",
    "#             pclasses.append(np.bincount(self.Y_train[sortedArray[i]]).argmax())\n",
    "            unique,pos = np.unique(self.Y_train[sortedArray[i]],return_inverse=True)\n",
    "            counts = np.bincount(pos)\n",
    "            pclasses.append(unique[np.argmax(counts)])\n",
    "        return pclasses\n",
    "        \n",
    "        # YOUR CODE HERE"
   ]
  },
  {
   "cell_type": "code",
   "execution_count": 3,
   "metadata": {
    "collapsed": true,
    "slideshow": {
     "slide_type": "-"
    }
   },
   "outputs": [],
   "source": [
    "import pandas as pd\n",
    "import tools as t # set of tools for plotting, data splitting, etc.."
   ]
  },
  {
   "cell_type": "code",
   "execution_count": 4,
   "metadata": {
    "slideshow": {
     "slide_type": "slide"
    }
   },
   "outputs": [
    {
     "name": "stdout",
     "output_type": "stream",
     "text": [
      "       SepalLength  SepalWidth  PetalLength  PetalWidth\n",
      "count   150.000000  150.000000   150.000000  150.000000\n",
      "mean      5.843333    3.054000     3.758667    1.198667\n",
      "std       0.828066    0.433594     1.764420    0.763161\n",
      "min       4.300000    2.000000     1.000000    0.100000\n",
      "25%       5.100000    2.800000     1.600000    0.300000\n",
      "50%       5.800000    3.000000     4.350000    1.300000\n",
      "75%       6.400000    3.300000     5.100000    1.800000\n",
      "max       7.900000    4.400000     6.900000    2.500000\n"
     ]
    }
   ],
   "source": [
    "#load the data set\n",
    "data=pd.read_csv('./iris.data', header=None)\n",
    "data.columns=['SepalLength','SepalWidth','PetalLength','PetalWidth','Class']\n",
    "print data.describe()"
   ]
  },
  {
   "cell_type": "code",
   "execution_count": 5,
   "metadata": {},
   "outputs": [
    {
     "name": "stdout",
     "output_type": "stream",
     "text": [
      "0      5.1\n",
      "1      4.9\n",
      "2      4.7\n",
      "3      4.6\n",
      "4      5.0\n",
      "5      5.4\n",
      "6      4.6\n",
      "7      5.0\n",
      "8      4.4\n",
      "9      4.9\n",
      "10     5.4\n",
      "11     4.8\n",
      "12     4.8\n",
      "13     4.3\n",
      "14     5.8\n",
      "15     5.7\n",
      "16     5.4\n",
      "17     5.1\n",
      "18     5.7\n",
      "19     5.1\n",
      "20     5.4\n",
      "21     5.1\n",
      "22     4.6\n",
      "23     5.1\n",
      "24     4.8\n",
      "25     5.0\n",
      "26     5.0\n",
      "27     5.2\n",
      "28     5.2\n",
      "29     4.7\n",
      "      ... \n",
      "120    6.9\n",
      "121    5.6\n",
      "122    7.7\n",
      "123    6.3\n",
      "124    6.7\n",
      "125    7.2\n",
      "126    6.2\n",
      "127    6.1\n",
      "128    6.4\n",
      "129    7.2\n",
      "130    7.4\n",
      "131    7.9\n",
      "132    6.4\n",
      "133    6.3\n",
      "134    6.1\n",
      "135    7.7\n",
      "136    6.3\n",
      "137    6.4\n",
      "138    6.0\n",
      "139    6.9\n",
      "140    6.7\n",
      "141    6.9\n",
      "142    5.8\n",
      "143    6.8\n",
      "144    6.7\n",
      "145    6.7\n",
      "146    6.3\n",
      "147    6.5\n",
      "148    6.2\n",
      "149    5.9\n",
      "Name: SepalLength, Length: 150, dtype: float64\n"
     ]
    }
   ],
   "source": [
    "print data['SepalLength']"
   ]
  },
  {
   "cell_type": "code",
   "execution_count": 5,
   "metadata": {
    "slideshow": {
     "slide_type": "slide"
    }
   },
   "outputs": [
    {
     "name": "stdout",
     "output_type": "stream",
     "text": [
      " Data Set Dimensions= (150, 4)  True Class labels dimensions (150,)\n"
     ]
    }
   ],
   "source": [
    "# Get your data in matrix\n",
    "X=np.asarray(data[['SepalLength','SepalWidth','PetalLength','PetalWidth']].dropna())\n",
    "Y=np.asarray(data['Class'].dropna())\n",
    "print \" Data Set Dimensions=\", X.shape, \" True Class labels dimensions\", Y.shape   "
   ]
  },
  {
   "cell_type": "code",
   "execution_count": 6,
   "metadata": {
    "slideshow": {
     "slide_type": "-"
    }
   },
   "outputs": [
    {
     "name": "stdout",
     "output_type": "stream",
     "text": [
      " Training Data Set Dimensions= (105, 4) Training True Class labels dimensions (105,)\n",
      " Test Data Set Dimensions= (45, 4) Test True Class labels dimensions (105,)\n"
     ]
    }
   ],
   "source": [
    "# Split your data into training and test-set... \n",
    "# see the documentation of split_data in tools for further information...\n",
    "Xtrain,Ytrain,Xtest,Ytest=t.split_data(X,Y)\n",
    "\n",
    "print \" Training Data Set Dimensions=\", Xtrain.shape, \"Training True Class labels dimensions\", Ytrain.shape   \n",
    "print \" Test Data Set Dimensions=\", Xtest.shape, \"Test True Class labels dimensions\", Ytrain.shape   "
   ]
  },
  {
   "cell_type": "markdown",
   "metadata": {},
   "source": [
    "# Training Time"
   ]
  },
  {
   "cell_type": "code",
   "execution_count": 7,
   "metadata": {
    "collapsed": true,
    "slideshow": {
     "slide_type": "slide"
    }
   },
   "outputs": [],
   "source": [
    "# Lets train a Decision Tree Classifier on Petal Length and Width\n",
    "feat=[0,1]\n",
    "knn=KNearestNeighbor(3) # train a 3-nearest neighbour classifier...\n",
    "knn.train(Xtrain[:,feat],Ytrain)"
   ]
  },
  {
   "cell_type": "markdown",
   "metadata": {},
   "source": [
    "### Testing Your Distance Implementation and Timing (Profiling it)"
   ]
  },
  {
   "cell_type": "code",
   "execution_count": 8,
   "metadata": {},
   "outputs": [
    {
     "name": "stdout",
     "output_type": "stream",
     "text": [
      "(45, 105)\n",
      "[[ 0.6         1.16619038  0.4472136  ...,  1.          1.74642492\n",
      "   3.00832179]\n",
      " [ 0.5         0.41231056  1.22065556 ...,  1.11803399  1.42126704\n",
      "   2.64196896]\n",
      " [ 0.56568542  1.28062485  0.63245553 ...,  0.63245553  1.5         2.72946881]\n",
      " ..., \n",
      " [ 1.33416641  1.27279221  2.30217289 ...,  1.14017543  0.2236068\n",
      "   1.11803399]\n",
      " [ 1.81107703  1.45602198  2.82842712 ...,  1.78885438  0.92195445\n",
      "   1.11803399]\n",
      " [ 1.36014705  1.3453624   2.30867928 ...,  1.11803399  0.2         1.07703296]]\n"
     ]
    }
   ],
   "source": [
    "#first lets compute distance of each test example from all the training examples using two loops \n",
    "dists = knn.compute_distances_two_loops(Xtest[:,feat])\n",
    "print dists"
   ]
  },
  {
   "cell_type": "code",
   "execution_count": 9,
   "metadata": {},
   "outputs": [
    {
     "name": "stdout",
     "output_type": "stream",
     "text": [
      "(45, 105)\n"
     ]
    },
    {
     "data": {
      "image/png": "[encoded data removed]",
      "text/plain": [
       "<matplotlib.figure.Figure at 0x7fc7785a3610>"
      ]
     },
     "metadata": {},
     "output_type": "display_data"
    }
   ],
   "source": [
    "print dists.shape\n",
    "# We can visualize the distance matrix: each row is a single test example and its distances to training examples\",\n",
    "plt.imshow(dists, interpolation='none')\n",
    "plt.gray()\n",
    "#here dark means less distance and light means high distance..."
   ]
  },
  {
   "cell_type": "markdown",
   "metadata": {},
   "source": [
    "#### Optimization time\n",
    "If you find spending too much time on these two steps skip them and come back later to speed up your implementation"
   ]
  },
  {
   "cell_type": "code",
   "execution_count": 50,
   "metadata": {},
   "outputs": [
    {
     "name": "stdout",
     "output_type": "stream",
     "text": [
      "(45, 105)\n",
      "0.360555127546 0.360555127546\n",
      "False\n"
     ]
    }
   ],
   "source": [
    "from nose.tools import assert_less_equal\n",
    "feat=[0,1]\n",
    "knn=KNearestNeighbor(3)\n",
    "knn.train(Xtrain[:,feat],Ytrain)\n",
    "\n",
    "dists = knn.compute_distances_two_loops(Xtest[:,feat])\n",
    "one_loop_dists = knn.compute_distances_one_loop(Xtest[:,feat])\n",
    "no_loop_dists = knn.compute_distances_no_loops(Xtest[:,feat])\n",
    "# print dists\n",
    "# print one_loop_dists\n",
    "print no_loop_dists[0][0],dists[0][0]\n",
    "print float(no_loop_dists[0][0]) == float(dists[0][0])\n",
    "\n",
    "# difference = np.linalg.norm(dists - one_loop_dists, ord='fro')\n",
    "# difference_1 = np.linalg.norm(dists - no_loop_dists, ord='fro')\n"
   ]
  },
  {
   "cell_type": "code",
   "execution_count": 10,
   "metadata": {
    "deletable": false,
    "editable": false,
    "nbgrader": {
     "checksum": "300f70ef9c215a5baa6a2dfe507a11cd",
     "grade": true,
     "grade_id": "dist_tests",
     "locked": true,
     "points": 5,
     "schema_version": 1,
     "solution": false
    }
   },
   "outputs": [
    {
     "name": "stdout",
     "output_type": "stream",
     "text": [
      "(45, 105)\n"
     ]
    }
   ],
   "source": [
    "from nose.tools import assert_less_equal\n",
    "feat=[0,1]\n",
    "knn=KNearestNeighbor(3)\n",
    "knn.train(Xtrain[:,feat],Ytrain)\n",
    "\n",
    "dists = knn.compute_distances_two_loops(Xtest[:,feat])\n",
    "one_loop_dists = knn.compute_distances_one_loop(Xtest[:,feat])\n",
    "no_loop_dists = knn.compute_distances_no_loops(Xtest[:,feat])\n",
    "\n",
    "difference = np.linalg.norm(dists - one_loop_dists, ord='fro')\n",
    "difference_1 = np.linalg.norm(dists - no_loop_dists, ord='fro')\n",
    "\n",
    "assert_less_equal(difference, 0.001, \"Two loops and one loop distance varies\")\n",
    "assert_less_equal(difference_1, 0.001, \"Two loops and no loop distance varies\")"
   ]
  },
  {
   "cell_type": "code",
   "execution_count": 11,
   "metadata": {
    "deletable": false,
    "editable": false,
    "nbgrader": {
     "checksum": "d0818833671408129430944090dad13b",
     "grade": true,
     "grade_id": "time_tests",
     "locked": true,
     "points": 5,
     "schema_version": 1,
     "solution": false
    }
   },
   "outputs": [
    {
     "name": "stdout",
     "output_type": "stream",
     "text": [
      "(45, 105)\n",
      "Two loops took :  0.0385429859161\n",
      "One loops took :  0.000949144363403\n",
      "No loops took  :  0.000303030014038\n"
     ]
    }
   ],
   "source": [
    "from nose.tools import assert_less_equal\n",
    "import time\n",
    "\n",
    "feat=[0,1]\n",
    "knn=KNearestNeighbor(3)\n",
    "knn.train(Xtrain[:,feat],Ytrain)\n",
    "\n",
    "start = time.time()\n",
    "knn.compute_distances_two_loops(Xtest[:,feat])\n",
    "end = time.time()\n",
    "two_loops = (end - start)\n",
    "print \"Two loops took : \",(end - start)\n",
    "\n",
    "start = time.time()\n",
    "one_loop = knn.compute_distances_one_loop(Xtest[:,feat])\n",
    "end = time.time()\n",
    "one_loop = (end - start)\n",
    "print \"One loops took : \",(end - start)\n",
    "\n",
    "start = time.time()\n",
    "no_loop = knn.compute_distances_no_loops(Xtest[:,feat])\n",
    "end = time.time()\n",
    "no_loop = (end - start)\n",
    "print \"No loops took  : \",(end - start)\n",
    "\n",
    "assert_less_equal(one_loop, two_loops/10.0)\n",
    "assert_less_equal(no_loop, one_loop)"
   ]
  },
  {
   "cell_type": "markdown",
   "metadata": {},
   "source": [
    "# Testing"
   ]
  },
  {
   "cell_type": "code",
   "execution_count": 12,
   "metadata": {
    "collapsed": true,
    "slideshow": {
     "slide_type": "slide"
    }
   },
   "outputs": [],
   "source": [
    "#Lets test it on the set of unseen examples...\n",
    "pclasses=knn.predict(Xtest[:,feat])"
   ]
  },
  {
   "cell_type": "code",
   "execution_count": 13,
   "metadata": {},
   "outputs": [
    {
     "name": "stdout",
     "output_type": "stream",
     "text": [
      "['Iris-setosa', 'Iris-setosa', 'Iris-setosa', 'Iris-setosa', 'Iris-setosa', 'Iris-setosa', 'Iris-setosa', 'Iris-setosa', 'Iris-setosa', 'Iris-setosa', 'Iris-setosa', 'Iris-setosa', 'Iris-setosa', 'Iris-setosa', 'Iris-setosa', 'Iris-versicolor', 'Iris-virginica', 'Iris-versicolor', 'Iris-virginica', 'Iris-versicolor', 'Iris-versicolor', 'Iris-virginica', 'Iris-virginica', 'Iris-virginica', 'Iris-virginica', 'Iris-versicolor', 'Iris-virginica', 'Iris-versicolor', 'Iris-versicolor', 'Iris-versicolor', 'Iris-versicolor', 'Iris-virginica', 'Iris-virginica', 'Iris-virginica', 'Iris-versicolor', 'Iris-versicolor', 'Iris-virginica', 'Iris-virginica', 'Iris-virginica', 'Iris-virginica', 'Iris-virginica', 'Iris-virginica', 'Iris-virginica', 'Iris-virginica', 'Iris-versicolor']\n"
     ]
    }
   ],
   "source": [
    "print pclasses"
   ]
  },
  {
   "cell_type": "markdown",
   "metadata": {
    "slideshow": {
     "slide_type": "slide"
    }
   },
   "source": [
    "Lets see how good we are doing...\n",
    "=================="
   ]
  },
  {
   "cell_type": "code",
   "execution_count": 14,
   "metadata": {
    "slideshow": {
     "slide_type": "slide"
    }
   },
   "outputs": [
    {
     "name": "stdout",
     "output_type": "stream",
     "text": [
      "34\n",
      "Accuracy =  0.755555555556\n"
     ]
    }
   ],
   "source": [
    "#Lets see how good we are doing, by finding the accuracy on the test set..\n",
    "print np.sum(pclasses==Ytest)\n",
    "print \"Accuracy = \", np.sum(pclasses==Ytest)/float(Ytest.shape[0])"
   ]
  },
  {
   "cell_type": "code",
   "execution_count": 15,
   "metadata": {
    "collapsed": true,
    "deletable": false,
    "editable": false,
    "nbgrader": {
     "checksum": "3bb48430330048b0f13463ef4cf88000",
     "grade": true,
     "grade_id": "acc_tests",
     "locked": true,
     "points": 2,
     "schema_version": 1,
     "solution": false
    }
   },
   "outputs": [],
   "source": [
    "from nose.tools import assert_greater_equal\n",
    "\n",
    "eat=[0,1]\n",
    "knn=KNearestNeighbor(3)\n",
    "knn.train(Xtrain[:,feat],Ytrain)\n",
    "pclasses=knn.predict(Xtest[:,feat])\n",
    "acc = np.sum(pclasses==Ytest)/float(Ytest.shape[0])\n",
    "\n",
    "assert_greater_equal(acc, 0.64)"
   ]
  },
  {
   "cell_type": "code",
   "execution_count": 16,
   "metadata": {
    "slideshow": {
     "slide_type": "slide"
    }
   },
   "outputs": [
    {
     "name": "stdout",
     "output_type": "stream",
     "text": [
      " Plotting the Decision Surface of Training Set... \n"
     ]
    },
    {
     "data": {
      "image/png": "[encoded data removed]",
      "text/plain": [
       "<matplotlib.figure.Figure at 0x7fc770715750>"
      ]
     },
     "metadata": {},
     "output_type": "display_data"
    }
   ],
   "source": [
    "#Lets plot the decision surface\n",
    "#%debug\n",
    "print \" Plotting the Decision Surface of Training Set... \"\n",
    "t.plot_decision_regions(Xtrain[:,feat],Ytrain,clf=knn, res=0.02, cycle_marker=True, legend=1)"
   ]
  },
  {
   "cell_type": "code",
   "execution_count": 17,
   "metadata": {
    "slideshow": {
     "slide_type": "slide"
    }
   },
   "outputs": [
    {
     "name": "stdout",
     "output_type": "stream",
     "text": [
      " Plotting the Decision Surface of Test Set... \n"
     ]
    },
    {
     "data": {
      "image/png": "[encoded data removed]",
      "text/plain": [
       "<matplotlib.figure.Figure at 0x7fc770715290>"
      ]
     },
     "metadata": {},
     "output_type": "display_data"
    }
   ],
   "source": [
    "print \" Plotting the Decision Surface of Test Set... \"\n",
    "t.plot_decision_regions(Xtest[:,feat],Ytest,clf=knn, res=0.02, cycle_marker=True, legend=1)"
   ]
  },
  {
   "cell_type": "markdown",
   "metadata": {},
   "source": [
    "# Feature Scaling (or Normalization)\n",
    "\n",
    "Since we are using Euclidean distance to find the nearest neighbours, which is (as we have seen in the lectures) is heavily influenced by differently scaled features (that features having different scales and ranges). So to make best of K Nearest Neigbhour classifier we will be needed to first scale each feature dimension. Now lets go and write code for the feature scaling in KNearestNeighbour..."
   ]
  },
  {
   "cell_type": "code",
   "execution_count": 18,
   "metadata": {},
   "outputs": [
    {
     "name": "stdout",
     "output_type": "stream",
     "text": [
      "(45, 105)\n",
      "33\n",
      "Accuracy =  0.733333333333\n"
     ]
    }
   ],
   "source": [
    "# Lets train a KNN Classifier on Normalized Petal Length and Width\n",
    "feat=[0,1]\n",
    "knn=KNearestNeighbor(3,scalefeatures=True) # train a 3-nearest neighbour classifier...\n",
    "\n",
    "knn.train(Xtrain[:,feat],Ytrain)\n",
    "#Lets test it on the set of unseen examples...\n",
    "pclasses=knn.predict(Xtest[:,feat], methodtype='twoloop')\n",
    "\n",
    "print np.sum(pclasses==Ytest)\n",
    "print \"Accuracy = \", np.sum(pclasses==Ytest)/float(Ytest.shape[0])"
   ]
  },
  {
   "cell_type": "code",
   "execution_count": 19,
   "metadata": {},
   "outputs": [
    {
     "name": "stdout",
     "output_type": "stream",
     "text": [
      " Plotting the Decision Surface of Test Set... \n"
     ]
    },
    {
     "data": {
      "image/png": "[encoded data removed]",
      "text/plain": [
       "<matplotlib.figure.Figure at 0x7fc7706ade90>"
      ]
     },
     "metadata": {},
     "output_type": "display_data"
    }
   ],
   "source": [
    "print \" Plotting the Decision Surface of Test Set... \"\n",
    "t.plot_decision_regions(Xtest[:,feat],Ytest,clf=knn, res=0.02, cycle_marker=True, legend=1)"
   ]
  },
  {
   "cell_type": "markdown",
   "metadata": {},
   "source": [
    "# Comment on the effect of feature scaling and normalization. \n",
    "\n",
    "What is the difference between the results of normalized features and non-normalized features. Why we are seeing the improvement (or decrease) in the accuracy."
   ]
  },
  {
   "cell_type": "code",
   "execution_count": null,
   "metadata": {
    "collapsed": true
   },
   "outputs": [],
   "source": []
  },
  {
   "cell_type": "markdown",
   "metadata": {},
   "source": [
    "# Lets Train on all four features...."
   ]
  },
  {
   "cell_type": "code",
   "execution_count": 20,
   "metadata": {},
   "outputs": [
    {
     "name": "stdout",
     "output_type": "stream",
     "text": [
      "(45, 105)\n",
      "42\n",
      "Accuracy =  0.933333333333\n"
     ]
    }
   ],
   "source": [
    "#Lets Train on all four features....\n",
    "\n",
    "# Lets train a Decision Tree Classifier on Petal Length and Width\n",
    "feat=[0, 1, 2, 3]\n",
    "knn=KNearestNeighbor(3)#\n",
    "knn.train(Xtrain[:,feat],Ytrain)\n",
    "pclasses=knn.predict(Xtest[:,feat], methodtype='twoloop')\n",
    "#Lets see how good we are doing, by finding the accuracy on the test set..\n",
    "print np.sum(pclasses==Ytest)\n",
    "print \"Accuracy = \", np.sum(pclasses==Ytest)/float(Ytest.shape[0])"
   ]
  },
  {
   "cell_type": "code",
   "execution_count": 21,
   "metadata": {
    "deletable": false,
    "editable": false,
    "nbgrader": {
     "checksum": "c78af43c10fcf700d5c8df3011005274",
     "grade": true,
     "grade_id": "acc_all_tests",
     "locked": true,
     "points": 2,
     "schema_version": 1,
     "solution": false
    }
   },
   "outputs": [
    {
     "name": "stdout",
     "output_type": "stream",
     "text": [
      "(45, 105)\n"
     ]
    }
   ],
   "source": [
    "from nose.tools import assert_greater_equal\n",
    "\n",
    "feat=[0, 1, 2, 3]\n",
    "knn=KNearestNeighbor(3)\n",
    "knn.train(Xtrain[:,feat],Ytrain)\n",
    "pclasses=knn.predict(Xtest[:,feat],  methodtype='twoloop')\n",
    "acc = np.sum(pclasses==Ytest)/float(Ytest.shape[0])\n",
    "\n",
    "assert_greater_equal(acc, 0.90)"
   ]
  },
  {
   "cell_type": "markdown",
   "metadata": {
    "slideshow": {
     "slide_type": "slide"
    }
   },
   "source": [
    "What can you conclude ?\n",
    "====================\n",
    "Please write your observation....\n",
    "\n"
   ]
  },
  {
   "cell_type": "markdown",
   "metadata": {},
   "source": [
    "# Cross-Validation\n",
    "\n",
    "Until now we have been splitting the dataset into a training and test set rather randomly and were reporting a rather artifical performance. Now we are going to test our system exhaustively by making use of k-fold [cross validation](http://en.wikipedia.org/wiki/Cross-validation_%28statistics%29). \n",
    "\n",
    "Now go and tune your hyper-parameters (K in this case) to opitmize the performance for only first two parameters."
   ]
  },
  {
   "cell_type": "code",
   "execution_count": 22,
   "metadata": {
    "collapsed": true
   },
   "outputs": [],
   "source": [
    "import time"
   ]
  },
  {
   "cell_type": "code",
   "execution_count": 23,
   "metadata": {
    "deletable": false,
    "nbgrader": {
     "checksum": "a32c1d1ef5b93f6e8d8bc367c83e9e35",
     "grade": false,
     "grade_id": "kfold",
     "locked": false,
     "schema_version": 1,
     "solution": true
    }
   },
   "outputs": [
    {
     "name": "stdout",
     "output_type": "stream",
     "text": [
      "Generating CV data for 3 classes\n",
      "For k= 1\n",
      "[Info] Fold 1 Accuracy = 0.694444444444\n",
      "[Info] Fold 2 Accuracy = 0.611111111111\n",
      "[Info] Fold 3 Accuracy = 0.666666666667\n",
      "[Info] Fold 4 Accuracy = 0.777777777778\n",
      "[Info] Mean Accuracy = 0.6875\n",
      "For k= 3\n",
      "[Info] Fold 1 Accuracy = 0.75\n",
      "[Info] Fold 2 Accuracy = 0.777777777778\n",
      "[Info] Fold 3 Accuracy = 0.722222222222\n",
      "[Info] Fold 4 Accuracy = 0.722222222222\n",
      "[Info] Mean Accuracy = 0.743055555556\n",
      "For k= 5\n",
      "[Info] Fold 1 Accuracy = 0.722222222222\n",
      "[Info] Fold 2 Accuracy = 0.777777777778\n",
      "[Info] Fold 3 Accuracy = 0.722222222222\n",
      "[Info] Fold 4 Accuracy = 0.722222222222\n",
      "[Info] Mean Accuracy = 0.736111111111\n",
      "For k= 7\n",
      "[Info] Fold 1 Accuracy = 0.777777777778\n",
      "[Info] Fold 2 Accuracy = 0.805555555556\n",
      "[Info] Fold 3 Accuracy = 0.75\n",
      "[Info] Fold 4 Accuracy = 0.75\n",
      "[Info] Mean Accuracy = 0.770833333333\n",
      "For k= 9\n",
      "[Info] Fold 1 Accuracy = 0.833333333333\n",
      "[Info] Fold 2 Accuracy = 0.777777777778\n",
      "[Info] Fold 3 Accuracy = 0.722222222222\n",
      "[Info] Fold 4 Accuracy = 0.805555555556\n",
      "[Info] Mean Accuracy = 0.784722222222\n",
      "For k= 11\n",
      "[Info] Fold 1 Accuracy = 0.833333333333\n",
      "[Info] Fold 2 Accuracy = 0.75\n",
      "[Info] Fold 3 Accuracy = 0.722222222222\n",
      "[Info] Fold 4 Accuracy = 0.777777777778\n",
      "[Info] Mean Accuracy = 0.770833333333\n",
      "For k= 13\n",
      "[Info] Fold 1 Accuracy = 0.833333333333\n",
      "[Info] Fold 2 Accuracy = 0.75\n",
      "[Info] Fold 3 Accuracy = 0.694444444444\n",
      "[Info] Fold 4 Accuracy = 0.75\n",
      "[Info] Mean Accuracy = 0.756944444444\n",
      "For k= 15\n",
      "[Info] Fold 1 Accuracy = 0.833333333333\n",
      "[Info] Fold 2 Accuracy = 0.75\n",
      "[Info] Fold 3 Accuracy = 0.777777777778\n",
      "[Info] Fold 4 Accuracy = 0.75\n",
      "[Info] Mean Accuracy = 0.777777777778\n",
      "For k= 17\n",
      "[Info] Fold 1 Accuracy = 0.75\n",
      "[Info] Fold 2 Accuracy = 0.75\n",
      "[Info] Fold 3 Accuracy = 0.777777777778\n",
      "[Info] Fold 4 Accuracy = 0.777777777778\n",
      "[Info] Mean Accuracy = 0.763888888889\n",
      "For k= 19\n",
      "[Info] Fold 1 Accuracy = 0.833333333333\n",
      "[Info] Fold 2 Accuracy = 0.805555555556\n",
      "[Info] Fold 3 Accuracy = 0.75\n",
      "[Info] Fold 4 Accuracy = 0.777777777778\n",
      "[Info] Mean Accuracy = 0.791666666667\n",
      "Best value for the K= 10  and gives the following mean accuracy= 0.791666666667\n",
      "Total time taken =  0.0580480098724\n"
     ]
    }
   ],
   "source": [
    "# Now lets cross validate for best paramters, and test the result...\n",
    "# We will be training four different models on four different partitions of data set and \n",
    "# then will be reporting the mean accuracy of the four classifiers.\n",
    "stime=time.time()\n",
    "\n",
    "nfolds=4 # lets use four folds..\n",
    "folds=t.generate_folds(X,Y,nfolds)\n",
    "features=[0,1] # features to use for our system\n",
    "#now lets train and test on these folds...\n",
    "\n",
    "#Lets perform the grid search...\n",
    "ks=np.arange(1,20,2) # search the k in the range one to 20...\n",
    "foldacc=[]          \n",
    "\n",
    "# YOUR CODE HERE\n",
    "# print folds[0][3]\n",
    "# totacc=[]\n",
    "#train a classifier for each fold...\n",
    "for k in ks:\n",
    "    print \"For k=\",k\n",
    "    totacc=[]\n",
    "    for f in range(nfolds):\n",
    "#         nb=NaiveBayes(classes)\n",
    "        knn=KNearestNeighbor(k)#\n",
    "    \n",
    "        traindata=folds[f][0]\n",
    "        trainlabels=folds[f][1]\n",
    "    \n",
    "        #Lets first train the classifier\n",
    "#         nb.train(traindata,trainlabels)\n",
    "        knn.train(traindata[:,features],trainlabels)\n",
    "    \n",
    "        testdata=folds[f][2]\n",
    "        testlabels=folds[f][3]\n",
    "\n",
    "        #Lets test the classifier\n",
    "#         pclasses= nb.test(testdata)\n",
    "        pclasses=knn.predict(testdata[:,features], methodtype='noloops')\n",
    "\n",
    "        #print pclasses\n",
    "        acc=np.sum(pclasses==testlabels)/float(testlabels.shape[0])\n",
    "        print \"[Info] Fold {} Accuracy = {}\".format(f+1, acc)    \n",
    "        totacc.append(acc)\n",
    "\n",
    "#     print totacc\n",
    "\n",
    "    mean_acc = np.mean(totacc)\n",
    "    foldacc.append(mean_acc)\n",
    "    print '[Info] Mean Accuracy =', mean_acc\n",
    "bestk = np.argmax(foldacc)+1\n",
    "print \"Best value for the K=\",bestk,\" and gives the following mean accuracy=\",foldacc[bestk-1]\n",
    "ftime = time.time()\n",
    "diff = ftime - stime\n",
    "print \"Total time taken = \",diff"
   ]
  },
  {
   "cell_type": "code",
   "execution_count": 24,
   "metadata": {},
   "outputs": [
    {
     "data": {
      "text/plain": [
       "Text(0.5,1,u'Cross Validation Accuracy for different Values of K')"
      ]
     },
     "execution_count": 24,
     "metadata": {},
     "output_type": "execute_result"
    },
    {
     "data": {
      "image/png": "[encoded data removed]",
      "text/plain": [
       "<matplotlib.figure.Figure at 0x7fc76bfd6350>"
      ]
     },
     "metadata": {},
     "output_type": "display_data"
    }
   ],
   "source": [
    "#Lets plot the accuracy w.r.t K\n",
    "plt.plot(ks,foldacc)\n",
    "plt.xlabel('K Neigbhours (Value of K\\'s)')\n",
    "plt.ylabel('Accuracy')\n",
    "plt.title('Cross Validation Accuracy for different Values of K')"
   ]
  },
  {
   "cell_type": "markdown",
   "metadata": {},
   "source": [
    "# Lets retrain the classifier with best-k and see its accuracy using only first two features..."
   ]
  },
  {
   "cell_type": "code",
   "execution_count": 25,
   "metadata": {},
   "outputs": [
    {
     "name": "stdout",
     "output_type": "stream",
     "text": [
      "10\n"
     ]
    }
   ],
   "source": [
    "print bestk"
   ]
  },
  {
   "cell_type": "code",
   "execution_count": 26,
   "metadata": {},
   "outputs": [
    {
     "name": "stdout",
     "output_type": "stream",
     "text": [
      "34\n",
      "KNN Accuracy (for best K=10) =0.755555555556 \n"
     ]
    }
   ],
   "source": [
    "feat=[0,1]\n",
    "knn=KNearestNeighbor(bestk,scalefeatures=True) # train a kbest-nearest neighbour classifier...\n",
    "knn.train(Xtrain[:,feat],Ytrain)\n",
    "\n",
    "#Lets test it on the set of unseen examples...\n",
    "pclasses=knn.predict(Xtest[:,feat])\n",
    "#Lets see how good we are doing, by finding the accuracy on the test set..\n",
    "print np.sum(pclasses==Ytest)\n",
    "print \"KNN Accuracy (for best K={}) ={} \".format(bestk,np.sum(pclasses==Ytest)/float(Ytest.shape[0]))"
   ]
  },
  {
   "cell_type": "code",
   "execution_count": 27,
   "metadata": {},
   "outputs": [
    {
     "name": "stdout",
     "output_type": "stream",
     "text": [
      " Plotting the Decision Surface of Test Set... \n"
     ]
    },
    {
     "data": {
      "image/png": "[encoded data removed]",
      "text/plain": [
       "<matplotlib.figure.Figure at 0x7fc76bf51210>"
      ]
     },
     "metadata": {},
     "output_type": "display_data"
    }
   ],
   "source": [
    "print \" Plotting the Decision Surface of Test Set... \"\n",
    "t.plot_decision_regions(Xtest[:,feat],Ytest,clf=knn, res=0.02, cycle_marker=True, legend=1)"
   ]
  },
  {
   "cell_type": "markdown",
   "metadata": {},
   "source": [
    "### Note the improvement of properly configured classifier w.r.t. to the classifier trained using only 3 Neigbours\n",
    "\n",
    "Comment on your experience."
   ]
  },
  {
   "cell_type": "code",
   "execution_count": null,
   "metadata": {
    "collapsed": true
   },
   "outputs": [],
   "source": []
  }
 ],
 "metadata": {
  "kernelspec": {
   "display_name": "Python 2",
   "language": "python",
   "name": "python2"
  },
  "language_info": {
   "codemirror_mode": {
    "name": "ipython",
    "version": 2
   },
   "file_extension": ".py",
   "mimetype": "text/x-python",
   "name": "python",
   "nbconvert_exporter": "python",
   "pygments_lexer": "ipython2",
   "version": "2.7.14"
  }
 },
 "nbformat": 4,
 "nbformat_minor": 1
}

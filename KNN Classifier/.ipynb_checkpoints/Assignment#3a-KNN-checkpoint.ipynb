{
 "cells": [
  {
   "cell_type": "markdown",
   "metadata": {},
   "source": [
    "# Assignment No 3a\n",
    "### *Written By: Sibt ul Hussain*\n",
    "----\n",
    "## Goal\n",
    "\n",
    "Your goal in this assigment is to implement a KNN Classifier.\n",
    "\n",
    "**Note** Please note that you are allowed to use only those libraries which we have discussed in the class, i.e. numpy, scipy, pandas.\n",
    "\n",
    "\n",
    "## Submission Instructions\n",
    "You are required to submit the original notebook file on the Slate (with .ipynb extension), with complete set of outputs. Students failing to do so will get zero marks. \n",
    "\n",
    "**Please read each step carefully and understand it fully before proceeding with code writing**\n",
    "\n",
    "## Plagiarism\n",
    "Any form of plagiarism will not be tolerated and result in 0 marks.\n"
   ]
  },
  {
   "cell_type": "markdown",
   "metadata": {},
   "source": [
    "Lets suppose there are $m$ examples of size $d$, which are stored in a training matrix $D$ of size $m \\times d$. Now if we use Euclidean distance for the finding the best match for a given test example  $q_{d\\times1}$ how many multiplications and additions we will need to perform ?"
   ]
  },
  {
   "cell_type": "code",
   "execution_count": 1,
   "metadata": {
    "collapsed": true
   },
   "outputs": [],
   "source": [
    "#Write you answer here\n"
   ]
  },
  {
   "cell_type": "markdown",
   "metadata": {
    "collapsed": false,
    "slideshow": {
     "slide_type": "slide"
    }
   },
   "source": [
    "Here you will be implementing three versions of KNN classifiers, those are:\n",
    " 1. Using two nested loops, i.e. for a given example you will have to compute its L2 distance with all the training samples, thus you will need to implement it using two nested loops...**Please first complete the assignment using this method and then go for further optimizations mentioned in step 2 and 3**\n",
    " 2. Using one loop, i.e. you can get rid of one loop using the numpy vectorization (tiling the test example).\n",
    " 3. The number of multiplications and additions can be reduced a lot if we use an alternate definition of Euclidean distance, i.e. $$||x-y||^2=||x||^2+||y||^2-2x^Ty$$\n",
    "instead of using the traditional definition $$||x-y||^2=\\sum_i (x_i-y_i)^2$$ This definition will help you to implement a very fast version of KNN classifier without using any loop whatsoever. \n",
    "\n",
    "#### HelpFul Functions\n",
    "You might find following functions to be extremely helpful\n",
    " - **[argpartition] (http://docs.scipy.org/doc/numpy/reference/generated/numpy.argpartition.html)** uses introselect algorithm to perform an indirect partition along the given axis. This can lead to O(n) complexity instead of O(nlogn). Remember indexing start from 0.\n",
    " - **[itemfreq]()** a function that returns a 2-D array of item frequencies."
   ]
  },
  {
   "cell_type": "markdown",
   "metadata": {},
   "source": [
    "### K Nearest Neighbour Classifier\n",
    "\n",
    "Now in this assignment we will be implementing the K Nearest Neighbour Classifier for Continuous attributes.\n"
   ]
  },
  {
   "cell_type": "code",
   "execution_count": 1,
   "metadata": {
    "collapsed": false,
    "scrolled": true,
    "slideshow": {
     "slide_type": "slide"
    }
   },
   "outputs": [
    {
     "name": "stdout",
     "output_type": "stream",
     "text": [
      "Populating the interactive namespace from numpy and matplotlib\n"
     ]
    }
   ],
   "source": [
    "%pylab inline\n",
    "import scipy.stats\n",
    "from collections import defaultdict\n",
    "plt.style.use('ggplot')\n",
    "matplotlib.rcParams['figure.figsize'] = (10.0, 8.0)\n",
    "%load_ext autoreload \n",
    "%autoreload 2\n",
    "import numpy as np"
   ]
  },
  {
   "cell_type": "code",
   "execution_count": 3,
   "metadata": {
    "collapsed": false,
    "deletable": false,
    "nbgrader": {
     "checksum": "59f09954abcbb6d74cb44946b9986f85",
     "grade": false,
     "grade_id": "class",
     "locked": false,
     "solution": true
    },
    "scrolled": false,
    "slideshow": {
     "slide_type": "slide"
    }
   },
   "outputs": [],
   "source": [
    "# TODO: You have to implement the following class\n",
    "## Your code goes here...\n",
    "\n",
    "class KNearestNeighbor:\n",
    "    ''' Implements the KNearest Neigbours For Classification... '''\n",
    "    def __init__(self, k, scalefeatures=False):        \n",
    "        self.k=k\n",
    "        self.scalefeatures=scalefeatures\n",
    "        \n",
    "        pass    \n",
    "    \n",
    "    def compute_distances_two_loops(self, X):\n",
    "        \"\"\"\n",
    "        Compute the distance between each test point in X and each training point\n",
    "        in self.X_train using a nested loop over both the training data and the \n",
    "        test data.\n",
    "\n",
    "        Input:\n",
    "        X - An num_test x dimension array where each row is a test point.\n",
    "\n",
    "        Output:\n",
    "        dists - A num_test x num_train array where dists[i, j] is the distance\n",
    "                between the ith test point and the jth training point.\n",
    "        \"\"\"\n",
    "        if self.scalefeatures:\n",
    "            X=self.scale_features(X)\n",
    "        num_test = X.shape[0]\n",
    "        num_train = self.X_train.shape[0]\n",
    "        dists = np.zeros((num_test, num_train))\n",
    "        for i in xrange(num_test):\n",
    "            for j in xrange(num_train):\n",
    "                #####################################################################\n",
    "                # TODO:                                                             #\n",
    "                # Compute the l2 distance between the ith test point and the jth    #\n",
    "                # training point, and store the result in dists[i, j]               #\n",
    "                #####################################################################\n",
    "                # YOUR CODE HERE\n",
    "                dists[i][j]=np.linalg.norm(X[i]-self.X_train[j])\n",
    "                #####################################################################\n",
    "                #                       END OF YOUR CODE                            #\n",
    "                #####################################################################\n",
    "        return dists\n",
    "\n",
    "    def compute_distances_one_loop(self, X):\n",
    "        \"\"\"\n",
    "        Compute the distance between each test point in X and each training point\n",
    "        in self.X_train using a single loop over the test data.\n",
    "\n",
    "        Input / Output: Same as compute_distances_two_loops\n",
    "        \"\"\"\n",
    "        if self.scalefeatures:\n",
    "            X=self.scale_features(X)\n",
    "        num_test = X.shape[0]\n",
    "        num_train = self.X_train.shape[0]\n",
    "        dists = np.zeros((num_test, num_train))\n",
    "        for i in xrange(num_test):\n",
    "            #######################################################################\n",
    "            # TODO:                                                               #\n",
    "            # Compute the l2 distance between the ith test point and all training #\n",
    "            # points, and store the result in dists[i, :].                        #\n",
    "            #######################################################################\n",
    "            # YOUR CODE HERE\n",
    "            dists[i, :]=np.linalg.norm(self.X_train - X[i, :], axis=1)\n",
    "            #dists[i, :] = np.sqrt(np.sum(np.square(self.X_train - X[i, :]), axis=1))\n",
    "            \n",
    "            #######################################################################\n",
    "            #                         END OF YOUR CODE                            #\n",
    "            #######################################################################\n",
    "        return dists\n",
    "\n",
    "    def compute_distances_no_loops(self, X):\n",
    "        \"\"\"\n",
    "        Compute the distance between each test point in X and each training point\n",
    "        in self.X_train using no explicit loops.\n",
    "\n",
    "        Input / Output: Same as compute_distances_two_loops\n",
    "        \"\"\"\n",
    "        if self.scalefeatures:\n",
    "            X=self.scale_features(X)\n",
    "        num_test = X.shape[0]\n",
    "        num_train = self.X_train.shape[0]\n",
    "        dists = np.zeros((num_test, num_train)) \n",
    "        #########################################################################\n",
    "        # TODO:                                                                 #\n",
    "        # Compute the l2 distance between all test points and all training      #\n",
    "        # points without using any explicit loops, and store the result in      #\n",
    "        # dists.                                                                #\n",
    "        # HINT: Try to formulate the l2 distance using matrix multiplication    #\n",
    "        #       and two broadcast sums.   \n",
    "        # Look at the np.tile function as well                                  #\n",
    "        #########################################################################\n",
    "        # YOUR CODE HERE\n",
    "        for i in xrange(num_test):\n",
    "            #dists[i, :] = np.sqrt(np.sum(np.square(self.X_train - X[i, :]), axis=1))\n",
    "            dists[i, :]=np.linalg.norm(self.X_train - X[i, :], axis=1)\n",
    "        #########################################################################\n",
    "        #                         END OF YOUR CODE                              #\n",
    "        #########################################################################\n",
    "        return dists\n",
    "    def scale_features(self,X):\n",
    "        \"\"\"\n",
    "            Normalize each feature to lie in the range [0 ,1]\n",
    "\n",
    "            Input:\n",
    "            ------\n",
    "\n",
    "                X= M x d dimensional data matrix\n",
    "\n",
    "            Returns:\n",
    "            --------\n",
    "\n",
    "                normalized X\n",
    "        \"\"\"\n",
    "        # we will store these values compute on training set to use during testing \n",
    "        self.xmin= np.min(X,axis=0)\n",
    "        self.xmax= np.max(X,axis=0)\n",
    "\n",
    "        return (X-self.xmin)/(self.xmax-self.xmin)\n",
    "    def train(self, X, Y):\n",
    "        ''' Train K Nearest Neighbour classifier using the given \n",
    "            X [m x d] data matrix and Y labels matrix\n",
    "            \n",
    "            Input:\n",
    "            ------\n",
    "            X: [m x d] a data matrix of m d-dimensional examples.\n",
    "            Y: [m x 1] a label vector.\n",
    "            \n",
    "            Returns:\n",
    "            -----------\n",
    "            Nothing\n",
    "            '''\n",
    "        \n",
    "        \n",
    "        nexamples,nfeatures=X.shape\n",
    "    \n",
    "        if self.scalefeatures:\n",
    "            X=self.scale_features(X)\n",
    "        \n",
    "        # YOUR CODE HERE\n",
    "        self.X_train=X\n",
    "        #self.Y=Y\n",
    "        self.Y_train=Y\n",
    "        self.unqlabels=np.unique(Y)\n",
    "        #Your code goes here...\n",
    "        #define self.X_train to store the training data...\n",
    "        \n",
    "        \n",
    "    \n",
    "    def predict(self, X, methodtype='noloops'):\n",
    "        \n",
    "        \"\"\"\n",
    "        Test the trained K-Nearset Neighoubr classifier result on the given examples X\n",
    "        \n",
    "                   \n",
    "            Input:\n",
    "            ------\n",
    "            X: [m x d] a matrix of m  d-dimensional test examples.\n",
    "            methodtype: which method to use for calculating distances.\n",
    "               noloops: without using any loop\n",
    "               oneloop: using one loop\n",
    "               twoloops: using two nested loops...\n",
    "               \n",
    "            Returns:\n",
    "            -----------\n",
    "                pclass: the predicted class for the given set of examples, i.e. to which it belongs\n",
    "        \"\"\"\n",
    "        \n",
    "        num_test = X.shape[0]\n",
    "        \n",
    "        if self.scalefeatures:\n",
    "            X=(X-self.xmin)/(self.xmax-self.xmin)\n",
    "        \n",
    "        y_pred = np.zeros(num_test, dtype = self.Y_train.dtype)\n",
    "        \n",
    "        # defining a function variable so that you will only need to call compute_distance...\n",
    "        if methodtype == 'noloops':\n",
    "            compute_distance = self.compute_distances_no_loops\n",
    "        elif methodtype == 'oneloop':\n",
    "            compute_distance = self.compute_distances_one_loop\n",
    "        else:\n",
    "            compute_distance = self.compute_distances_two_loops\n",
    "        #your code goes here...\n",
    "        \n",
    "        compute_distance=compute_distance(X)\n",
    "        # YOUR CODE HERE\n",
    "        count=np.zeros(self.k,dtype=int)\n",
    "        for i in range(num_test):\n",
    "            #clslabels=np.array(self.Y[np.argsort(compute_distance[i,:])[:self.k]])\n",
    "            sortlabel=np.argpartition(compute_distance[i],2)\n",
    "            clslabels=np.array(self.Y_train[sortlabel[:self.k]])\n",
    "            count=[np.count_nonzero(clslabels==self.unqlabels[x]) for x in range(len(self.unqlabels))]\n",
    "            #count[0]=np.count_nonzero(clslabels==self.unqlabels[0])\n",
    "            #count[1]=np.count_nonzero(clslabels==self.unqlabels[1])\n",
    "            #count[2]=np.count_nonzero(clslabels==self.unqlabels[2])\n",
    "            y_pred[i]=self.unqlabels[np.argmax(count)]\n",
    "        return y_pred"
   ]
  },
  {
   "cell_type": "code",
   "execution_count": 4,
   "metadata": {
    "collapsed": false
   },
   "outputs": [],
   "source": [
    "#train=np.array([[1,2],[4,3],[5,6]],dtype=float)\n",
    "#test=np.array([[1,2],[3,4]],dtype=float)\n",
    "#di=np.zeros((2,3))\n",
    "#for i in xrange(2):\n",
    "#    di[i, :]=np.linalg.norm(train-test[i,:],axis=1)\n",
    "#print di\n",
    "#for i in xrange(5):\n",
    "#    print i\n",
    "#x=np.array([1,2,3,4])\n",
    "#y=np.array([[1,2],[2,3]])\n",
    "#print np.repeat(y,[2,2],axis=0)[:,:2]\n",
    "#print x+np.repeat(y[:],2)\n",
    "#print [train+x for x in test]\n",
    "#print np.sum(np.square(train),axis=1)+np.sum(np.square(test)[0:,:],axis=1)-2(np.dot(test,train[0:,:].T))\n",
    "#labels=np.array([\"c1\",\"c2\",\"c3\",\"c3\",\"c1\"])\n",
    "#print np.argsort(train.flatten())\n",
    "#print np.count_nonzero(labels==\"c3\")\n",
    "#print abs(3)"
   ]
  },
  {
   "cell_type": "code",
   "execution_count": 65,
   "metadata": {
    "collapsed": false
   },
   "outputs": [
    {
     "name": "stdout",
     "output_type": "stream",
     "text": [
      "[[ 10.]\n",
      " [ 20.]\n",
      " [ 34.]]\n",
      "[  5.  25.  61.]\n"
     ]
    }
   ],
   "source": [
    "#x = np.array([50, 55, 60, 3,2,5,4])\n",
    "#x[np.argpartition(x, 3)]\n",
    "train=np.array([[1,2],[4,3],[5,6]],dtype=float)\n",
    "test=np.array([[1,2],[3,4]],dtype=float)\n",
    "#print test.T\n",
    "xy=2*np.dot(train,test.T)\n",
    "#train=np.linalg.norm(train,axis=0)\n",
    "#test=np.linalg.norm(test,axis=0)\n",
    "train=np.sum(np.square(train),axis=1)\n",
    "test=np.sum(np.square(test),axis=1)\n",
    "#print xy[:,0:1]\n",
    "#print train-xy[:,0:1]\n",
    "#print test[0:2]\n",
    "#print xy\n",
    "#print \n",
    "#print xy[:,0:1]\n",
    "#print test\n",
    "#print \n",
    "#print xy[:,1:2]\n",
    "print xy[:,0:1]\n",
    "print train\n",
    "#for i in range(len(test)):\n",
    "#    print train+test[i]-xy[:,i:i+1]"
   ]
  },
  {
   "cell_type": "code",
   "execution_count": 4,
   "metadata": {
    "collapsed": false,
    "scrolled": true,
    "slideshow": {
     "slide_type": "-"
    }
   },
   "outputs": [],
   "source": [
    "import pandas as pd\n",
    "import tools as t # set of tools for plotting, data splitting, etc.."
   ]
  },
  {
   "cell_type": "code",
   "execution_count": 5,
   "metadata": {
    "collapsed": false,
    "scrolled": true,
    "slideshow": {
     "slide_type": "slide"
    }
   },
   "outputs": [
    {
     "name": "stdout",
     "output_type": "stream",
     "text": [
      "       SepalLength  SepalWidth  PetalLength  PetalWidth\n",
      "count   149.000000  149.000000   149.000000  149.000000\n",
      "mean      5.848322    3.051007     3.774497    1.205369\n",
      "std       0.828594    0.433499     1.759651    0.761292\n",
      "min       4.300000    2.000000     1.000000    0.100000\n",
      "25%       5.100000    2.800000     1.600000    0.300000\n",
      "50%       5.800000    3.000000     4.400000    1.300000\n",
      "75%       6.400000    3.300000     5.100000    1.800000\n",
      "max       7.900000    4.400000     6.900000    2.500000\n"
     ]
    }
   ],
   "source": [
    "#load the data set\n",
    "data=pd.read_csv('./iris.data')\n",
    "data.columns=['SepalLength','SepalWidth','PetalLength','PetalWidth','Class']\n",
    "print data.describe()"
   ]
  },
  {
   "cell_type": "code",
   "execution_count": 6,
   "metadata": {
    "collapsed": false,
    "scrolled": true,
    "slideshow": {
     "slide_type": "slide"
    }
   },
   "outputs": [
    {
     "name": "stdout",
     "output_type": "stream",
     "text": [
      " Data Set Dimensions= (149, 4)  True Class labels dimensions (149,)\n"
     ]
    }
   ],
   "source": [
    "# Get your data in matrix\n",
    "X=np.asarray(data[['SepalLength','SepalWidth','PetalLength','PetalWidth']].dropna())\n",
    "Y=np.asarray(data['Class'].dropna())\n",
    "print \" Data Set Dimensions=\", X.shape, \" True Class labels dimensions\", Y.shape   "
   ]
  },
  {
   "cell_type": "code",
   "execution_count": 7,
   "metadata": {
    "collapsed": false,
    "scrolled": true,
    "slideshow": {
     "slide_type": "-"
    }
   },
   "outputs": [
    {
     "name": "stdout",
     "output_type": "stream",
     "text": [
      " Training Data Set Dimensions= (104, 4) Training True Class labels dimensions (104,)\n",
      " Test Data Set Dimensions= (45, 4) Test True Class labels dimensions (104,)\n"
     ]
    }
   ],
   "source": [
    "# Split your data into training and test-set... \n",
    "# see the documentation of split_data in tools for further information...\n",
    "Xtrain,Ytrain,Xtest,Ytest=t.split_data(X,Y)\n",
    "\n",
    "print \" Training Data Set Dimensions=\", Xtrain.shape, \"Training True Class labels dimensions\", Ytrain.shape   \n",
    "print \" Test Data Set Dimensions=\", Xtest.shape, \"Test True Class labels dimensions\", Ytrain.shape   "
   ]
  },
  {
   "cell_type": "markdown",
   "metadata": {},
   "source": [
    "# Training Time"
   ]
  },
  {
   "cell_type": "code",
   "execution_count": 8,
   "metadata": {
    "collapsed": false,
    "scrolled": false,
    "slideshow": {
     "slide_type": "slide"
    }
   },
   "outputs": [],
   "source": [
    "# Lets train a Decision Tree Classifier on Petal Length and Width\n",
    "feat=[0,1]\n",
    "knn=KNearestNeighbor(3) # train a 3-nearest neighbour classifier...\n",
    "knn.train(Xtrain[:,feat],Ytrain)"
   ]
  },
  {
   "cell_type": "markdown",
   "metadata": {},
   "source": [
    "### Testing Your Distance Implementation and Timing (Profiling it)"
   ]
  },
  {
   "cell_type": "code",
   "execution_count": 9,
   "metadata": {
    "collapsed": false
   },
   "outputs": [],
   "source": [
    "#first lets compute distance of each test example from all the training examples using two loops \n",
    "dists = knn.compute_distances_two_loops(Xtest[:,feat])"
   ]
  },
  {
   "cell_type": "code",
   "execution_count": 10,
   "metadata": {
    "collapsed": false
   },
   "outputs": [
    {
     "name": "stdout",
     "output_type": "stream",
     "text": [
      "(45, 104)\n"
     ]
    },
    {
     "data": {
      "image/png": "[encoded data removed]",
      "text/plain": [
       "<matplotlib.figure.Figure at 0x7f37bc5a3290>"
      ]
     },
     "metadata": {},
     "output_type": "display_data"
    }
   ],
   "source": [
    "print dists.shape\n",
    "# We can visualize the distance matrix: each row is a single test example and its distances to training examples\",\n",
    "plt.imshow(dists, interpolation='none')\n",
    "plt.gray()\n",
    "#here dark means less distance and light means high distance..."
   ]
  },
  {
   "cell_type": "markdown",
   "metadata": {},
   "source": [
    "#### Optimization time\n",
    "If you find spending too much time on these two steps skip them and come back later to speed up your implementation"
   ]
  },
  {
   "cell_type": "code",
   "execution_count": 11,
   "metadata": {
    "collapsed": false,
    "deletable": false,
    "nbgrader": {
     "checksum": "300f70ef9c215a5baa6a2dfe507a11cd",
     "grade": true,
     "grade_id": "dist_tests",
     "locked": true,
     "points": 5,
     "solution": false
    }
   },
   "outputs": [],
   "source": [
    "from nose.tools import assert_less_equal\n",
    "feat=[0,1]\n",
    "knn=KNearestNeighbor(3)\n",
    "knn.train(Xtrain[:,feat],Ytrain)\n",
    "\n",
    "dists = knn.compute_distances_two_loops(Xtest[:,feat])\n",
    "one_loop_dists = knn.compute_distances_one_loop(Xtest[:,feat])\n",
    "no_loop_dists = knn.compute_distances_no_loops(Xtest[:,feat])\n",
    "\n",
    "difference = np.linalg.norm(dists - one_loop_dists, ord='fro')\n",
    "difference_1 = np.linalg.norm(dists - no_loop_dists, ord='fro')\n",
    "\n",
    "assert_less_equal(difference, 0.001, \"Two loops and one loop distance varies\")\n",
    "assert_less_equal(difference_1, 0.001, \"Two loops and no loop distance varies\")"
   ]
  },
  {
   "cell_type": "code",
   "execution_count": 12,
   "metadata": {
    "collapsed": false,
    "deletable": false,
    "nbgrader": {
     "checksum": "d0818833671408129430944090dad13b",
     "grade": true,
     "grade_id": "time_tests",
     "locked": true,
     "points": 5,
     "solution": false
    }
   },
   "outputs": [
    {
     "name": "stdout",
     "output_type": "stream",
     "text": [
      "Two loops took :  0.0920879840851\n",
      "One loops took :  0.00217223167419\n",
      "No loops took  :  0.00188803672791\n"
     ]
    }
   ],
   "source": [
    "from nose.tools import assert_less_equal\n",
    "import time\n",
    "\n",
    "feat=[0,1]\n",
    "knn=KNearestNeighbor(3)\n",
    "knn.train(Xtrain[:,feat],Ytrain)\n",
    "\n",
    "start = time.time()\n",
    "knn.compute_distances_two_loops(Xtest[:,feat])\n",
    "end = time.time()\n",
    "two_loops = (end - start)\n",
    "print \"Two loops took : \",(end - start)\n",
    "\n",
    "start = time.time()\n",
    "one_loop = knn.compute_distances_one_loop(Xtest[:,feat])\n",
    "end = time.time()\n",
    "one_loop = (end - start)\n",
    "print \"One loops took : \",(end - start)\n",
    "\n",
    "start = time.time()\n",
    "no_loop = knn.compute_distances_no_loops(Xtest[:,feat])\n",
    "end = time.time()\n",
    "no_loop = (end - start)\n",
    "print \"No loops took  : \",(end - start)\n",
    "\n",
    "assert_less_equal(one_loop, two_loops/10.0)\n",
    "assert_less_equal(no_loop, one_loop)"
   ]
  },
  {
   "cell_type": "markdown",
   "metadata": {},
   "source": [
    "# Testing"
   ]
  },
  {
   "cell_type": "code",
   "execution_count": 13,
   "metadata": {
    "collapsed": false,
    "scrolled": true,
    "slideshow": {
     "slide_type": "slide"
    }
   },
   "outputs": [],
   "source": [
    "#Lets test it on the set of unseen examples...\n",
    "pclasses=knn.predict(Xtest[:,feat])"
   ]
  },
  {
   "cell_type": "code",
   "execution_count": 14,
   "metadata": {
    "collapsed": false,
    "scrolled": false
   },
   "outputs": [
    {
     "name": "stdout",
     "output_type": "stream",
     "text": [
      "['Iris-setosa' 'Iris-setosa' 'Iris-setosa' 'Iris-setosa' 'Iris-setosa'\n",
      " 'Iris-setosa' 'Iris-setosa' 'Iris-setosa' 'Iris-setosa' 'Iris-setosa'\n",
      " 'Iris-setosa' 'Iris-setosa' 'Iris-setosa' 'Iris-setosa' 'Iris-setosa'\n",
      " 'Iris-versicolor' 'Iris-versicolor' 'Iris-versicolor' 'Iris-versicolor'\n",
      " 'Iris-versicolor' 'Iris-versicolor' 'Iris-versicolor' 'Iris-versicolor'\n",
      " 'Iris-virginica' 'Iris-versicolor' 'Iris-virginica' 'Iris-versicolor'\n",
      " 'Iris-versicolor' 'Iris-versicolor' 'Iris-virginica' 'Iris-virginica'\n",
      " 'Iris-versicolor' 'Iris-versicolor' 'Iris-virginica' 'Iris-virginica'\n",
      " 'Iris-versicolor' 'Iris-versicolor' 'Iris-virginica' 'Iris-virginica'\n",
      " 'Iris-virginica' 'Iris-virginica' 'Iris-virginica' 'Iris-virginica'\n",
      " 'Iris-versicolor' 'Iris-virginica']\n"
     ]
    }
   ],
   "source": [
    "print pclasses"
   ]
  },
  {
   "cell_type": "markdown",
   "metadata": {
    "slideshow": {
     "slide_type": "slide"
    }
   },
   "source": [
    "Lets see how good we are doing...\n",
    "=================="
   ]
  },
  {
   "cell_type": "code",
   "execution_count": 15,
   "metadata": {
    "collapsed": false,
    "scrolled": true,
    "slideshow": {
     "slide_type": "slide"
    }
   },
   "outputs": [
    {
     "name": "stdout",
     "output_type": "stream",
     "text": [
      "37\n",
      "Accuracy =  0.822222222222\n"
     ]
    }
   ],
   "source": [
    "#Lets see how good we are doing, by finding the accuracy on the test set..\n",
    "print np.sum(pclasses==Ytest)\n",
    "print \"Accuracy = \", np.sum(pclasses==Ytest)/float(Ytest.shape[0])"
   ]
  },
  {
   "cell_type": "code",
   "execution_count": 16,
   "metadata": {
    "collapsed": false,
    "deletable": false,
    "nbgrader": {
     "checksum": "e3441b6f30ada807d9770e6ff2e4facd",
     "grade": true,
     "grade_id": "acc_tests",
     "locked": true,
     "points": 2,
     "solution": false
    }
   },
   "outputs": [],
   "source": [
    "from nose.tools import assert_greater_equal\n",
    "\n",
    "feat=[0,1]\n",
    "knn=KNearestNeighbor(3)\n",
    "knn.train(Xtrain[:,feat],Ytrain)\n",
    "pclasses=knn.predict(Xtest[:,feat])\n",
    "acc = np.sum(pclasses==Ytest)/float(Ytest.shape[0])\n",
    "\n",
    "assert_greater_equal(acc, 0.64)"
   ]
  },
  {
   "cell_type": "code",
   "execution_count": 17,
   "metadata": {
    "collapsed": false,
    "scrolled": true,
    "slideshow": {
     "slide_type": "slide"
    }
   },
   "outputs": [
    {
     "name": "stdout",
     "output_type": "stream",
     "text": [
      " Plotting the Decision Surface of Training Set... \n"
     ]
    },
    {
     "data": {
      "image/png": "[encoded data removed]",
      "text/plain": [
       "<matplotlib.figure.Figure at 0x7f378aee9350>"
      ]
     },
     "metadata": {},
     "output_type": "display_data"
    }
   ],
   "source": [
    "#Lets plot the decision surface\n",
    "#%debug\n",
    "print \" Plotting the Decision Surface of Training Set... \"\n",
    "t.plot_decision_regions(Xtrain[:,feat],Ytrain,clf=knn, res=0.02, cycle_marker=True, legend=1)"
   ]
  },
  {
   "cell_type": "code",
   "execution_count": 18,
   "metadata": {
    "collapsed": false,
    "scrolled": true,
    "slideshow": {
     "slide_type": "slide"
    }
   },
   "outputs": [
    {
     "name": "stdout",
     "output_type": "stream",
     "text": [
      " Plotting the Decision Surface of Test Set... \n"
     ]
    },
    {
     "data": {
      "image/png": "[encoded data removed]",
      "text/plain": [
       "<matplotlib.figure.Figure at 0x7f378a684cd0>"
      ]
     },
     "metadata": {},
     "output_type": "display_data"
    }
   ],
   "source": [
    "print \" Plotting the Decision Surface of Test Set... \"\n",
    "t.plot_decision_regions(Xtest[:,feat],Ytest,clf=knn, res=0.02, cycle_marker=True, legend=1)"
   ]
  },
  {
   "cell_type": "markdown",
   "metadata": {},
   "source": [
    "# Feature Scaling (or Normalization)\n",
    "\n",
    "Since we are using Euclidean distance to find the nearest neighbours, which is (as we have seen in the lectures) is heavily influenced by differently scaled features (that features having different scales and ranges). So to make best of K Nearest Neigbhour classifier we will be needed to first scale each feature dimension. Now lets go and write code for the feature scaling in KNearestNeighbour..."
   ]
  },
  {
   "cell_type": "code",
   "execution_count": 19,
   "metadata": {
    "collapsed": false
   },
   "outputs": [
    {
     "name": "stdout",
     "output_type": "stream",
     "text": [
      "34\n",
      "Accuracy =  0.755555555556\n"
     ]
    }
   ],
   "source": [
    "# Lets train a KNN Classifier on Normalized Petal Length and Width\n",
    "feat=[0,1]\n",
    "knn=KNearestNeighbor(3,scalefeatures=True) # train a 3-nearest neighbour classifier...\n",
    "\n",
    "knn.train(Xtrain[:,feat],Ytrain)\n",
    "#Lets test it on the set of unseen examples...\n",
    "pclasses=knn.predict(Xtest[:,feat])\n",
    "\n",
    "print np.sum(pclasses==Ytest)\n",
    "print \"Accuracy = \", np.sum(pclasses==Ytest)/float(Ytest.shape[0])"
   ]
  },
  {
   "cell_type": "code",
   "execution_count": 20,
   "metadata": {
    "collapsed": false
   },
   "outputs": [
    {
     "name": "stdout",
     "output_type": "stream",
     "text": [
      " Plotting the Decision Surface of Test Set... \n"
     ]
    },
    {
     "data": {
      "image/png": "[encoded data removed]",
      "text/plain": [
       "<matplotlib.figure.Figure at 0x7f378a50f210>"
      ]
     },
     "metadata": {},
     "output_type": "display_data"
    }
   ],
   "source": [
    "print \" Plotting the Decision Surface of Test Set... \"\n",
    "t.plot_decision_regions(Xtest[:,feat],Ytest,clf=knn, res=0.02, cycle_marker=True, legend=1)"
   ]
  },
  {
   "cell_type": "markdown",
   "metadata": {},
   "source": [
    "# Comment on the effect of feature scaling and normalization. \n",
    "\n",
    "What is the difference between the results of normalized features and non-normalized features. Why we are seeing the improvement (or decrease) in the accuracy."
   ]
  },
  {
   "cell_type": "code",
   "execution_count": null,
   "metadata": {
    "collapsed": true
   },
   "outputs": [],
   "source": []
  },
  {
   "cell_type": "markdown",
   "metadata": {},
   "source": [
    "# Lets Train on all four features...."
   ]
  },
  {
   "cell_type": "code",
   "execution_count": 21,
   "metadata": {
    "collapsed": false,
    "scrolled": true
   },
   "outputs": [
    {
     "name": "stdout",
     "output_type": "stream",
     "text": [
      "44\n",
      "Accuracy =  0.977777777778\n"
     ]
    }
   ],
   "source": [
    "#Lets Train on all four features....\n",
    "\n",
    "# Lets train a Decision Tree Classifier on Petal Length and Width\n",
    "feat=[0, 1, 2, 3]\n",
    "knn=KNearestNeighbor(3)#\n",
    "knn.train(Xtrain[:,feat],Ytrain)\n",
    "pclasses=knn.predict(Xtest[:,feat])\n",
    "#Lets see how good we are doing, by finding the accuracy on the test set..\n",
    "print np.sum(pclasses==Ytest)\n",
    "print \"Accuracy = \", np.sum(pclasses==Ytest)/float(Ytest.shape[0])"
   ]
  },
  {
   "cell_type": "code",
   "execution_count": 22,
   "metadata": {
    "collapsed": false,
    "deletable": false,
    "nbgrader": {
     "checksum": "8709cf4d5940a2b0ebeb13e2eb0c4508",
     "grade": true,
     "grade_id": "acc_all_tests",
     "locked": true,
     "points": 2,
     "solution": false
    }
   },
   "outputs": [],
   "source": [
    "from nose.tools import assert_greater_equal\n",
    "\n",
    "feat=[0, 1, 2, 3]\n",
    "knn=KNearestNeighbor(3)\n",
    "knn.train(Xtrain[:,feat],Ytrain)\n",
    "pclasses=knn.predict(Xtest[:,feat])\n",
    "acc = np.sum(pclasses==Ytest)/float(Ytest.shape[0])\n",
    "\n",
    "assert_greater_equal(acc, 0.90)"
   ]
  },
  {
   "cell_type": "markdown",
   "metadata": {
    "slideshow": {
     "slide_type": "slide"
    }
   },
   "source": [
    "What can you conclude ?\n",
    "====================\n",
    "Please write your observation....\n",
    "\n"
   ]
  },
  {
   "cell_type": "markdown",
   "metadata": {},
   "source": [
    "# Cross-Validation\n",
    "\n",
    "Until now we have been splitting the dataset into a training and test set rather randomly and were reporting a rather artifical performance. Now we are going to test our system exhaustively by making use of k-fold [cross validation](http://en.wikipedia.org/wiki/Cross-validation_%28statistics%29). \n",
    "\n",
    "Now go and tune your hyper-parameters (K in this case) to opitmize the performance for only first two parameters."
   ]
  },
  {
   "cell_type": "code",
   "execution_count": 23,
   "metadata": {
    "collapsed": true
   },
   "outputs": [],
   "source": [
    "import time"
   ]
  },
  {
   "cell_type": "code",
   "execution_count": 24,
   "metadata": {
    "collapsed": false,
    "deletable": false,
    "nbgrader": {
     "checksum": "112478757f94c156450112bf1d5695a6",
     "grade": false,
     "grade_id": "kfold",
     "locked": false,
     "solution": true
    },
    "scrolled": true
   },
   "outputs": [
    {
     "name": "stdout",
     "output_type": "stream",
     "text": [
      "Generating CV data for 3 classes\n",
      "[Info] Fold  1 [Info] Fold  Accuracy = 0.777777777778\n",
      "[Info] Fold  2 [Info] Fold  Accuracy = 0.722222222222\n",
      "[Info] Fold  3 [Info] Fold  Accuracy = 0.75\n",
      "[Info] Fold  4 [Info] Fold  Accuracy = 0.694444444444\n",
      "For K =  1  Mean Accuracy =  0.736111111111\n",
      "[Info] Fold  1 [Info] Fold  Accuracy = 0.777777777778\n",
      "[Info] Fold  2 [Info] Fold  Accuracy = 0.805555555556\n",
      "[Info] Fold  3 [Info] Fold  Accuracy = 0.805555555556\n",
      "[Info] Fold  4 [Info] Fold  Accuracy = 0.722222222222\n",
      "For K =  3  Mean Accuracy =  0.777777777778\n",
      "[Info] Fold  1 [Info] Fold  Accuracy = 0.472222222222\n",
      "[Info] Fold  2 [Info] Fold  Accuracy = 0.638888888889\n",
      "[Info] Fold  3 [Info] Fold  Accuracy = 0.611111111111\n",
      "[Info] Fold  4 [Info] Fold  Accuracy = 0.583333333333\n",
      "For K =  5  Mean Accuracy =  0.576388888889\n",
      "[Info] Fold  1 [Info] Fold  Accuracy = 0.333333333333\n",
      "[Info] Fold  2 [Info] Fold  Accuracy = 0.333333333333\n",
      "[Info] Fold  3 [Info] Fold  Accuracy = 0.333333333333\n",
      "[Info] Fold  4 [Info] Fold  Accuracy = 0.333333333333\n",
      "For K =  7  Mean Accuracy =  0.333333333333\n",
      "[Info] Fold  1 [Info] Fold  Accuracy = 0.333333333333\n",
      "[Info] Fold  2 [Info] Fold  Accuracy = 0.333333333333\n",
      "[Info] Fold  3 [Info] Fold  Accuracy = 0.333333333333\n",
      "[Info] Fold  4 [Info] Fold  Accuracy = 0.333333333333\n",
      "For K =  9  Mean Accuracy =  0.333333333333\n",
      "[Info] Fold  1 [Info] Fold  Accuracy = 0.333333333333\n",
      "[Info] Fold  2 [Info] Fold  Accuracy = 0.333333333333\n",
      "[Info] Fold  3 [Info] Fold  Accuracy = 0.333333333333\n",
      "[Info] Fold  4 [Info] Fold  Accuracy = 0.333333333333\n",
      "For K =  11  Mean Accuracy =  0.333333333333\n",
      "[Info] Fold  1 [Info] Fold  Accuracy = 0.333333333333\n",
      "[Info] Fold  2 [Info] Fold  Accuracy = 0.333333333333\n",
      "[Info] Fold  3 [Info] Fold  Accuracy = 0.333333333333\n",
      "[Info] Fold  4 [Info] Fold  Accuracy = 0.333333333333\n",
      "For K =  13  Mean Accuracy =  0.333333333333\n",
      "[Info] Fold  1 [Info] Fold  Accuracy = 0.333333333333\n",
      "[Info] Fold  2 [Info] Fold  Accuracy = 0.333333333333\n",
      "[Info] Fold  3 [Info] Fold  Accuracy = 0.333333333333\n",
      "[Info] Fold  4 [Info] Fold  Accuracy = 0.333333333333\n",
      "For K =  15  Mean Accuracy =  0.333333333333\n",
      "[Info] Fold  1 [Info] Fold  Accuracy = 0.333333333333\n",
      "[Info] Fold  2 [Info] Fold  Accuracy = 0.333333333333\n",
      "[Info] Fold  3 [Info] Fold  Accuracy = 0.333333333333\n",
      "[Info] Fold  4 [Info] Fold  Accuracy = 0.333333333333\n",
      "For K =  17  Mean Accuracy =  0.333333333333\n",
      "[Info] Fold  1 [Info] Fold  Accuracy = 0.333333333333\n",
      "[Info] Fold  2 [Info] Fold  Accuracy = 0.333333333333\n",
      "[Info] Fold  3 [Info] Fold  Accuracy = 0.333333333333\n",
      "[Info] Fold  4 [Info] Fold  Accuracy = 0.333333333333\n",
      "For K =  19  Mean Accuracy =  0.333333333333\n",
      "\n",
      "Best value for the K="
     ]
    },
    {
     "ename": "NameError",
     "evalue": "name 'bestK' is not defined",
     "output_type": "error",
     "traceback": [
      "\u001b[0;31m---------------------------------------------------------------------------\u001b[0m",
      "\u001b[0;31mNameError\u001b[0m                                 Traceback (most recent call last)",
      "\u001b[0;32m<ipython-input-24-2cca519722f6>\u001b[0m in \u001b[0;36m<module>\u001b[0;34m()\u001b[0m\n\u001b[1;32m     29\u001b[0m \u001b[0maccuracy\u001b[0m\u001b[0;34m=\u001b[0m\u001b[0mfoldacc\u001b[0m\u001b[0;34m[\u001b[0m\u001b[0mbestk\u001b[0m\u001b[0;34m]\u001b[0m\u001b[0;34m\u001b[0m\u001b[0m\n\u001b[1;32m     30\u001b[0m \u001b[0mbestk\u001b[0m\u001b[0;34m=\u001b[0m\u001b[0mks\u001b[0m\u001b[0;34m[\u001b[0m\u001b[0mbestk\u001b[0m\u001b[0;34m]\u001b[0m\u001b[0;31m#get best k value\u001b[0m\u001b[0;34m\u001b[0m\u001b[0m\n\u001b[0;32m---> 31\u001b[0;31m \u001b[0;32mprint\u001b[0m \u001b[0;34m\"\\nBest value for the K=\"\u001b[0m\u001b[0;34m,\u001b[0m\u001b[0mbestK\u001b[0m\u001b[0;34m,\u001b[0m\u001b[0;34m\"and gives following mean accuracy=\"\u001b[0m\u001b[0;34m,\u001b[0m\u001b[0maccuracy\u001b[0m\u001b[0;34m\u001b[0m\u001b[0m\n\u001b[0m\u001b[1;32m     32\u001b[0m \u001b[0metime\u001b[0m\u001b[0;34m=\u001b[0m\u001b[0mtime\u001b[0m\u001b[0;34m.\u001b[0m\u001b[0mtime\u001b[0m\u001b[0;34m(\u001b[0m\u001b[0;34m)\u001b[0m\u001b[0;34m\u001b[0m\u001b[0m\n\u001b[1;32m     33\u001b[0m \u001b[0;34m\u001b[0m\u001b[0m\n",
      "\u001b[0;31mNameError\u001b[0m: name 'bestK' is not defined"
     ]
    }
   ],
   "source": [
    "# Now lets cross validate for best paramters, and test the result...\n",
    "# We will be training four different models on four different partitions of data set and \n",
    "# then will be reporting the mean accuracy of the four classifiers.\n",
    "stime=time.time()\n",
    "\n",
    "\n",
    "nfolds=4 # lets use four folds..\n",
    "folds=t.generate_folds(X,Y,nfolds)\n",
    "features=[0,1] # features to use for our system\n",
    "#now lets train and test on these folds...\n",
    "\n",
    "#Lets perform the grid search...\n",
    "ks=np.arange(1,20,2) # search the k in the range one to 20...\n",
    "foldacc=[]   \n",
    "\n",
    "# YOUR CODE HERE\n",
    "for k in ks:\n",
    "    ac=0#use to sum the kfolds accuracy to calculate mean accuracy\n",
    "    knn=KNearestNeighbor(k,True)\n",
    "    for i in range(nfolds):\n",
    "        knn.train(folds[i][0][:,features],folds[i][1])\n",
    "        pclasses=knn.predict(folds[i][2][:,features])\n",
    "        truepredict=np.sum(pclasses==folds[i][3])\n",
    "        ac+=truepredict/float(folds[i][2].shape[0])\n",
    "        print \"[Info] Fold \",i+1,\"[Info] Fold  Accuracy =\",(truepredict/float(folds[i][2].shape[0]))\n",
    "    foldacc.append(ac/float(nfolds))\n",
    "    print \"For K = \",k,\" Mean Accuracy = \",foldacc[-1]\n",
    "bestk=np.argmax(foldacc)#index of best k\n",
    "accuracy=foldacc[bestk]\n",
    "bestk=ks[bestk]#get best k value\n",
    "print \"\\nBest value for the K=\",bestk,\"and gives following mean accuracy=\",accuracy\n",
    "etime=time.time()\n",
    "\n",
    "print'\\n Total Time Taken ={}'.format(etime-stime)"
   ]
  },
  {
   "cell_type": "code",
   "execution_count": 25,
   "metadata": {
    "collapsed": false
   },
   "outputs": [
    {
     "data": {
      "text/plain": [
       "<matplotlib.text.Text at 0x7f378a324a50>"
      ]
     },
     "execution_count": 25,
     "metadata": {},
     "output_type": "execute_result"
    },
    {
     "name": "stdout",
     "output_type": "stream",
     "text": [
      "\n"
     ]
    },
    {
     "data": {
      "image/png": "[encoded data removed]",
      "text/plain": [
       "<matplotlib.figure.Figure at 0x7f378a3d9c90>"
      ]
     },
     "metadata": {},
     "output_type": "display_data"
    }
   ],
   "source": [
    "#Lets plot the accuracy w.r.t K\n",
    "plt.plot(ks,foldacc)\n",
    "plt.xlabel('K Neigbhours (Value of K\\'s)')\n",
    "plt.ylabel('Accuracy')\n",
    "plt.title('Cross Validation Accuracy for different Values of K')"
   ]
  },
  {
   "cell_type": "markdown",
   "metadata": {},
   "source": [
    "# Lets retrain the classifier with best-k and see its accuracy using only first two features..."
   ]
  },
  {
   "cell_type": "code",
   "execution_count": 120,
   "metadata": {
    "collapsed": false
   },
   "outputs": [
    {
     "name": "stdout",
     "output_type": "stream",
     "text": [
      "3\n"
     ]
    }
   ],
   "source": [
    "print bestk"
   ]
  },
  {
   "cell_type": "code",
   "execution_count": 124,
   "metadata": {
    "collapsed": false
   },
   "outputs": [
    {
     "name": "stdout",
     "output_type": "stream",
     "text": [
      "37\n",
      "KNN Accuracy (for best K=3) =0.822222222222 \n"
     ]
    }
   ],
   "source": [
    "feat=[0,1]\n",
    "knn=KNearestNeighbor(bestk,scalefeatures=True) # train a kbest-nearest neighbour classifier...\n",
    "knn.train(Xtrain[:,feat],Ytrain)\n",
    "\n",
    "#Lets test it on the set of unseen examples...\n",
    "pclasses=knn.predict(Xtest[:,feat])\n",
    "#Lets see how good we are doing, by finding the accuracy on the test set..\n",
    "print np.sum(pclasses==Ytest)\n",
    "print \"KNN Accuracy (for best K={}) ={} \".format(bestk,np.sum(pclasses==Ytest)/float(Ytest.shape[0]))"
   ]
  },
  {
   "cell_type": "code",
   "execution_count": 125,
   "metadata": {
    "collapsed": false
   },
   "outputs": [
    {
     "name": "stdout",
     "output_type": "stream",
     "text": [
      " Plotting the Decision Surface of Test Set... \n"
     ]
    },
    {
     "data": {
      "image/png": "[encoded data removed]",
      "text/plain": [
       "<matplotlib.figure.Figure at 0x7f6a96418a50>"
      ]
     },
     "metadata": {},
     "output_type": "display_data"
    }
   ],
   "source": [
    "print \" Plotting the Decision Surface of Test Set... \"\n",
    "t.plot_decision_regions(Xtest[:,feat],Ytest,clf=knn, res=0.02, cycle_marker=True, legend=1)"
   ]
  },
  {
   "cell_type": "markdown",
   "metadata": {},
   "source": [
    "### Note the improvement of properly configured classifier w.r.t. to the classifier trained using only 3 Neigbours\n",
    "\n",
    "Comment on your experience."
   ]
  },
  {
   "cell_type": "markdown",
   "metadata": {},
   "source": [
    "This is the true representative accuracy measure of our system. Since, we are removing the selection bias and hence can be much more confidently use the score as a reflection of our system's performance."
   ]
  }
 ],
 "metadata": {
  "kernelspec": {
   "display_name": "Python 2",
   "language": "python",
   "name": "python2"
  },
  "language_info": {
   "codemirror_mode": {
    "name": "ipython",
    "version": 2
   },
   "file_extension": ".py",
   "mimetype": "text/x-python",
   "name": "python",
   "nbconvert_exporter": "python",
   "pygments_lexer": "ipython2",
   "version": "2.7.13"
  }
 },
 "nbformat": 4,
 "nbformat_minor": 0
}
